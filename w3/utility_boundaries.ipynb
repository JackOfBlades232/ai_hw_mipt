{
 "cells": [
  {
   "cell_type": "code",
   "execution_count": 1,
   "id": "6571b13a",
   "metadata": {},
   "outputs": [],
   "source": [
    "%matplotlib inline\n",
    "import matplotlib.pyplot as plt\n",
    "import numpy as np"
   ]
  },
  {
   "cell_type": "code",
   "execution_count": null,
   "id": "1dd4ced6",
   "metadata": {},
   "outputs": [],
   "source": [
    "\n",
    "def flee(hp, dist, amount, ally_hp):\n",
    "    return (200 - hp) * 5 - 50 * dist + np.random.randn() * 0\n",
    "\n",
    "def attack(hp, dist, amount, ally_hp):\n",
    "    return 100 - 30 * dist  + np.random.randn() * 0\n",
    "\n",
    "def pickup_hp(hp, dist, amount, ally_hp):\n",
    "    return (300 - hp) * amount * 0.2 - 20 * dist  + np.random.randn() * 0\n",
    "\n",
    "def pickup_powerup(hp, dist, amount, ally_hp):\n",
    "    return amount * 0.2 - 50 * dist  + np.random.randn() * 0\n",
    "\n",
    "def heal_ally(hp, dist, amount, ally_hp):\n",
    "    return 25 * (100 - ally_hp) - 30 * dist  + np.random.randn() * 0 \n",
    "\n",
    "def follow_ally(hp, dist, amount, ally_hp):\n",
    "    return 50 - 10 * dist  + np.random.randn() * 0 \n",
    "\n",
    "# This is too large, not really drawable\n",
    "\n",
    "# HP = np.arange(0, 100, 0.25)\n",
    "# DIST = np.arange(0, 10, 0.025)\n",
    "# AMOUNT = np.arange(0, 100, 0.25)\n",
    "# ALLY_HP = np.arange(0, 100, 0.025)\n",
    "# img = np.zeros((HP.shape[0], DIST.shape[0], AMOUNT.shape[0], ALLY_HP.shape[0]))\n",
    "# ht = np.zeros((4, HP.shape[0], DIST.shape[0], AMOUNT.shape[0], ALLY_HP.shape[0]))\n",
    "# for x, hp in enumerate(HP):\n",
    "#     for y, ds in enumerate(DIST):\n",
    "#         for z, amt in enumerate(AMOUNT):\n",
    "#             for w, ahp in enumerate(ALLY_HP):\n",
    "#                 utility = np.array([flee(hp, ds, amt, ahp), attack(hp, ds, amt, ahp), pickup_hp(hp, ds, amt, ahp), pickup_powerup(hp, ds, amt, ahp), heal_ally(hp, ds, amt, ahp), follow_ally(hp, ds, amt, ahp)])\n",
    "#                 for i in range(utility.shape[0]):\n",
    "#                     ht[i][x][y][z][w] = utility[i]\n",
    "#                 img[x][y][z][w] = np.argmax(utility)\n",
    "\n",
    "HP = np.arange(0, 100, 0.25)\n",
    "DIST = np.arange(0, 10, 0.025)\n",
    "AMOUNT = np.random.random() * 100\n",
    "ALLY_HP = np.random.random() * 100\n",
    "img = np.zeros((HP.shape[0], DIST.shape[0]))\n",
    "ht = np.zeros((6, HP.shape[0], DIST.shape[0]))\n",
    "for x, hp in enumerate(HP):\n",
    "    for y, ds in enumerate(DIST):\n",
    "        utility = np.array([flee(hp, ds, AMOUNT, ALLY_HP), attack(hp, ds, AMOUNT, ALLY_HP), pickup_hp(hp, ds, AMOUNT, ALLY_HP), pickup_powerup(hp, ds, AMOUNT, ALLY_HP), heal_ally(hp, ds, AMOUNT, ALLY_HP), follow_ally(hp, ds, AMOUNT, ALLY_HP)])\n",
    "        for i in range(utility.shape[0]):\n",
    "            ht[i][x][y] = utility[i]\n",
    "        img[x][y] = np.argmax(utility)\n",
    "\n",
    "\n",
    "fig, ax = plt.subplots()\n",
    "im = ax.imshow(img, extent=[0, 10, 100, 0])\n",
    "ax.set_aspect('auto')\n",
    "ax.set_xlabel(\"dist\")\n",
    "ax.set_ylabel(\"hp\")\n",
    "\n",
    "\n",
    "plt.colorbar(im)\n",
    "\n",
    "fig, ax = plt.subplots(2, 2)\n",
    "for i in range(4):\n",
    "    im = ax[i %2, i // 2].imshow(ht[i], extent=[0, 10, 100, 0], cmap='Greys')\n",
    "    ax[i %2, i // 2].set_aspect('auto')\n",
    "    ax[i %2, i // 2].set_xlabel(\"dist\")\n",
    "    ax[i %2, i // 2].set_ylabel(\"hp\")\n",
    "    plt.colorbar(im)"
   ]
  },
  {
   "cell_type": "code",
   "execution_count": null,
   "id": "fd4cd61a",
   "metadata": {},
   "outputs": [],
   "source": [
    "X = np.arange(0, 1, 0.01)\n",
    "plt.plot(X, (X ** 0.5) * 0.8)\n",
    "plt.plot(X, X)\n",
    "plt.plot(X, 1 / (1 + np.exp(-(X * 10 - 5))))\n",
    "plt.plot(X, 1 - X ** 2)\n",
    "plt.plot(X, -2 * X ** 3 + 3 * X ** 2)"
   ]
  },
  {
   "cell_type": "code",
   "execution_count": null,
   "id": "36c8ec0e",
   "metadata": {},
   "outputs": [],
   "source": []
  }
 ],
 "metadata": {
  "kernelspec": {
   "display_name": "Python 3 (ipykernel)",
   "language": "python",
   "name": "python3"
  },
  "language_info": {
   "codemirror_mode": {
    "name": "ipython",
    "version": 3
   },
   "file_extension": ".py",
   "mimetype": "text/x-python",
   "name": "python",
   "nbconvert_exporter": "python",
   "pygments_lexer": "ipython3",
   "version": "3.10.12"
  }
 },
 "nbformat": 4,
 "nbformat_minor": 5
}
